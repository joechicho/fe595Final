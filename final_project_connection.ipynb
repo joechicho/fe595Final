{
 "cells": [
  {
   "cell_type": "code",
   "execution_count": 5,
   "id": "530e87b0",
   "metadata": {},
   "outputs": [
    {
     "name": "stdout",
     "output_type": "stream",
     "text": [
      "Collecting pymysql\n",
      "\u001b[?25l  Downloading https://files.pythonhosted.org/packages/4f/52/a115fe175028b058df353c5a3d5290b71514a83f67078a6482cff24d6137/PyMySQL-1.0.2-py3-none-any.whl (43kB)\n",
      "\u001b[K     |████████████████████████████████| 51kB 3.2MB/s eta 0:00:01\n",
      "\u001b[?25hInstalling collected packages: pymysql\n",
      "Successfully installed pymysql-1.0.2\n"
     ]
    }
   ],
   "source": [
    "# Download pymysql package:\n",
    "import sys\n",
    "get_ipython().system('{sys.executable} -m pip install pymysql')"
   ]
  },
  {
   "cell_type": "code",
   "execution_count": 1,
   "id": "72cdd8bb",
   "metadata": {},
   "outputs": [],
   "source": [
    "# Import pymsql:\n",
    "import pymysql"
   ]
  },
  {
   "cell_type": "code",
   "execution_count": 2,
   "id": "4862f8b9",
   "metadata": {},
   "outputs": [],
   "source": [
    "# Connect our Workbench to python:\n",
    "conn = pymysql.connect(host = 'final-project-fe595-group7.cz2xzj6pvabe.us-east-2.rds.amazonaws.com',\n",
    "                      port = 3306,\n",
    "                      user = 'admin',\n",
    "                      password = 'group72021',\n",
    "                      db = 'FinalprojectFE595Group7')"
   ]
  },
  {
   "cell_type": "code",
   "execution_count": 10,
   "id": "5f211fc0",
   "metadata": {},
   "outputs": [
    {
     "data": {
      "text/plain": [
       "0"
      ]
     },
     "execution_count": 10,
     "metadata": {},
     "output_type": "execute_result"
    }
   ],
   "source": [
    "# Create table in our workbench:\n",
    "# DO NOT RUN AGAIN\n",
    "cursor = conn.cursor()\n",
    "create_table = \"\"\"\n",
    "create table ArticleData (author varchar(200), title varchar(500), subject varchar(200), month int, day int, year int, source varchar(200), link varchar(1000))\"\"\"\n",
    "cursor.execute(create_table)"
   ]
  },
  {
   "cell_type": "code",
   "execution_count": 12,
   "id": "95481e4e",
   "metadata": {},
   "outputs": [],
   "source": [
    "# Function to query data\n",
    "def get_data():\n",
    "    cur=conn.cursor()\n",
    "    cur.execute(\"SELECT * FROM ArticleData\")\n",
    "    data = cur.fetchall()\n",
    "    return data"
   ]
  },
  {
   "cell_type": "code",
   "execution_count": 14,
   "id": "7adcf8de",
   "metadata": {},
   "outputs": [
    {
     "data": {
      "text/plain": [
       "(('Author', 'Title', 'Subject', 12, 22, 2001, 'Source', 'Link'),)"
      ]
     },
     "execution_count": 14,
     "metadata": {},
     "output_type": "execute_result"
    }
   ],
   "source": [
    "# Test query:\n",
    "get_data()"
   ]
  },
  {
   "cell_type": "code",
   "execution_count": null,
   "id": "3c361559",
   "metadata": {},
   "outputs": [],
   "source": []
  }
 ],
 "metadata": {
  "kernelspec": {
   "display_name": "Python 3",
   "language": "python",
   "name": "python3"
  },
  "language_info": {
   "codemirror_mode": {
    "name": "ipython",
    "version": 3
   },
   "file_extension": ".py",
   "mimetype": "text/x-python",
   "name": "python",
   "nbconvert_exporter": "python",
   "pygments_lexer": "ipython3",
   "version": "3.7.4"
  }
 },
 "nbformat": 4,
 "nbformat_minor": 5
}
